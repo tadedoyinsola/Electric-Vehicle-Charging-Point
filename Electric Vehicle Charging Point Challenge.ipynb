{
 "cells": [
  {
   "cell_type": "markdown",
   "id": "f42811c5",
   "metadata": {},
   "source": [
    "# SHELL-AI- HACKATHON FOR SUSTAINABLE AND AFFORDABLE ENERGY\n",
    "ELECTRIC VEHICLE CHARGING POINT CHALLENGE\n",
    "\n"
   ]
  },
  {
   "cell_type": "code",
   "execution_count": 64,
   "id": "75ac7c1d",
   "metadata": {},
   "outputs": [],
   "source": [
    "import pandas as pd  # for data manipulation\n",
    "import numpy as np    # for mathematical calculation\n",
    "#import seaborn as sns   # for data visualisation\n",
    "#import matplotlib.pyplot as plt   #for plotting graph\n",
    "#%matplotlib inline \n",
    "#matplotlib inline ensures command in cells bellow the cell that outputs a plot does not affect the plot\n",
    "from sklearn.preprocessing import LabelEncoder, OneHotEncoder\n",
    "from sklearn.model_selection import train_test_split\n",
    "#from pandas_profiling import ProfileReport\n",
    "import warnings   # to ignore warnings\n",
    "\n",
    "#import all libraries and modules at the beginning of the code"
   ]
  },
  {
   "cell_type": "code",
   "execution_count": 5,
   "id": "95c7c7ef",
   "metadata": {},
   "outputs": [],
   "source": [
    "#Loading in the data sets\n",
    "Demand_History = pd.read_csv(\"Demand_History.csv\")\n",
    "Existing = pd.read_csv(\"EEVI2018.csv\")\n",
    "sample_submission = pd.read_csv('sample_submission.csv')"
   ]
  },
  {
   "cell_type": "code",
   "execution_count": 6,
   "id": "c459172d",
   "metadata": {},
   "outputs": [
    {
     "data": {
      "text/html": [
       "<div>\n",
       "<style scoped>\n",
       "    .dataframe tbody tr th:only-of-type {\n",
       "        vertical-align: middle;\n",
       "    }\n",
       "\n",
       "    .dataframe tbody tr th {\n",
       "        vertical-align: top;\n",
       "    }\n",
       "\n",
       "    .dataframe thead th {\n",
       "        text-align: right;\n",
       "    }\n",
       "</style>\n",
       "<table border=\"1\" class=\"dataframe\">\n",
       "  <thead>\n",
       "    <tr style=\"text-align: right;\">\n",
       "      <th></th>\n",
       "      <th>demand_point_index</th>\n",
       "      <th>x_coordinate</th>\n",
       "      <th>y_coordinate</th>\n",
       "      <th>2010</th>\n",
       "      <th>2011</th>\n",
       "      <th>2012</th>\n",
       "      <th>2013</th>\n",
       "      <th>2014</th>\n",
       "      <th>2015</th>\n",
       "      <th>2016</th>\n",
       "      <th>2017</th>\n",
       "      <th>2018</th>\n",
       "    </tr>\n",
       "  </thead>\n",
       "  <tbody>\n",
       "    <tr>\n",
       "      <th>0</th>\n",
       "      <td>0</td>\n",
       "      <td>0.5</td>\n",
       "      <td>0.5</td>\n",
       "      <td>0.352242</td>\n",
       "      <td>0.667932</td>\n",
       "      <td>0.958593</td>\n",
       "      <td>2.911901</td>\n",
       "      <td>4.338274</td>\n",
       "      <td>6.561995</td>\n",
       "      <td>8.454417</td>\n",
       "      <td>10.595324</td>\n",
       "      <td>13.119572</td>\n",
       "    </tr>\n",
       "    <tr>\n",
       "      <th>1</th>\n",
       "      <td>1</td>\n",
       "      <td>1.5</td>\n",
       "      <td>0.5</td>\n",
       "      <td>0.325940</td>\n",
       "      <td>0.591964</td>\n",
       "      <td>0.862652</td>\n",
       "      <td>2.589068</td>\n",
       "      <td>4.196034</td>\n",
       "      <td>5.745551</td>\n",
       "      <td>8.753195</td>\n",
       "      <td>11.126995</td>\n",
       "      <td>12.020091</td>\n",
       "    </tr>\n",
       "    <tr>\n",
       "      <th>2</th>\n",
       "      <td>2</td>\n",
       "      <td>2.5</td>\n",
       "      <td>0.5</td>\n",
       "      <td>0.373752</td>\n",
       "      <td>0.591890</td>\n",
       "      <td>0.969733</td>\n",
       "      <td>2.641432</td>\n",
       "      <td>3.541772</td>\n",
       "      <td>5.469161</td>\n",
       "      <td>8.414627</td>\n",
       "      <td>10.115336</td>\n",
       "      <td>14.018254</td>\n",
       "    </tr>\n",
       "    <tr>\n",
       "      <th>3</th>\n",
       "      <td>3</td>\n",
       "      <td>3.5</td>\n",
       "      <td>0.5</td>\n",
       "      <td>0.420686</td>\n",
       "      <td>0.584055</td>\n",
       "      <td>0.906547</td>\n",
       "      <td>2.378577</td>\n",
       "      <td>3.888121</td>\n",
       "      <td>5.846089</td>\n",
       "      <td>9.083868</td>\n",
       "      <td>12.424885</td>\n",
       "      <td>15.012302</td>\n",
       "    </tr>\n",
       "    <tr>\n",
       "      <th>4</th>\n",
       "      <td>4</td>\n",
       "      <td>4.5</td>\n",
       "      <td>0.5</td>\n",
       "      <td>0.475621</td>\n",
       "      <td>0.647940</td>\n",
       "      <td>0.981544</td>\n",
       "      <td>2.665400</td>\n",
       "      <td>4.218711</td>\n",
       "      <td>6.776609</td>\n",
       "      <td>8.851107</td>\n",
       "      <td>11.731131</td>\n",
       "      <td>16.355563</td>\n",
       "    </tr>\n",
       "  </tbody>\n",
       "</table>\n",
       "</div>"
      ],
      "text/plain": [
       "   demand_point_index  x_coordinate  y_coordinate      2010      2011  \\\n",
       "0                   0           0.5           0.5  0.352242  0.667932   \n",
       "1                   1           1.5           0.5  0.325940  0.591964   \n",
       "2                   2           2.5           0.5  0.373752  0.591890   \n",
       "3                   3           3.5           0.5  0.420686  0.584055   \n",
       "4                   4           4.5           0.5  0.475621  0.647940   \n",
       "\n",
       "       2012      2013      2014      2015      2016       2017       2018  \n",
       "0  0.958593  2.911901  4.338274  6.561995  8.454417  10.595324  13.119572  \n",
       "1  0.862652  2.589068  4.196034  5.745551  8.753195  11.126995  12.020091  \n",
       "2  0.969733  2.641432  3.541772  5.469161  8.414627  10.115336  14.018254  \n",
       "3  0.906547  2.378577  3.888121  5.846089  9.083868  12.424885  15.012302  \n",
       "4  0.981544  2.665400  4.218711  6.776609  8.851107  11.731131  16.355563  "
      ]
     },
     "execution_count": 6,
     "metadata": {},
     "output_type": "execute_result"
    }
   ],
   "source": [
    "Demand_History.head() #Previewing the dataset"
   ]
  },
  {
   "cell_type": "code",
   "execution_count": 7,
   "id": "08b98513",
   "metadata": {},
   "outputs": [
    {
     "data": {
      "text/plain": [
       "demand_point_index    0\n",
       "x_coordinate          0\n",
       "y_coordinate          0\n",
       "2010                  0\n",
       "2011                  0\n",
       "2012                  0\n",
       "2013                  0\n",
       "2014                  0\n",
       "2015                  0\n",
       "2016                  0\n",
       "2017                  0\n",
       "2018                  0\n",
       "dtype: int64"
      ]
     },
     "execution_count": 7,
     "metadata": {},
     "output_type": "execute_result"
    }
   ],
   "source": [
    "Demand_History.isnull().sum() #checking for missing values"
   ]
  },
  {
   "cell_type": "code",
   "execution_count": 8,
   "id": "b1c37876",
   "metadata": {},
   "outputs": [
    {
     "data": {
      "text/html": [
       "<div>\n",
       "<style scoped>\n",
       "    .dataframe tbody tr th:only-of-type {\n",
       "        vertical-align: middle;\n",
       "    }\n",
       "\n",
       "    .dataframe tbody tr th {\n",
       "        vertical-align: top;\n",
       "    }\n",
       "\n",
       "    .dataframe thead th {\n",
       "        text-align: right;\n",
       "    }\n",
       "</style>\n",
       "<table border=\"1\" class=\"dataframe\">\n",
       "  <thead>\n",
       "    <tr style=\"text-align: right;\">\n",
       "      <th></th>\n",
       "      <th>demand_point_index</th>\n",
       "      <th>x_coordinate</th>\n",
       "      <th>y_coordinate</th>\n",
       "      <th>2010</th>\n",
       "      <th>2011</th>\n",
       "      <th>2012</th>\n",
       "      <th>2013</th>\n",
       "      <th>2014</th>\n",
       "      <th>2015</th>\n",
       "      <th>2016</th>\n",
       "      <th>2017</th>\n",
       "      <th>2018</th>\n",
       "    </tr>\n",
       "  </thead>\n",
       "  <tbody>\n",
       "    <tr>\n",
       "      <th>count</th>\n",
       "      <td>4096.00000</td>\n",
       "      <td>4096.000000</td>\n",
       "      <td>4096.000000</td>\n",
       "      <td>4096.000000</td>\n",
       "      <td>4096.000000</td>\n",
       "      <td>4096.000000</td>\n",
       "      <td>4096.000000</td>\n",
       "      <td>4096.000000</td>\n",
       "      <td>4096.000000</td>\n",
       "      <td>4096.000000</td>\n",
       "      <td>4096.000000</td>\n",
       "      <td>4096.000000</td>\n",
       "    </tr>\n",
       "    <tr>\n",
       "      <th>mean</th>\n",
       "      <td>2047.50000</td>\n",
       "      <td>32.000000</td>\n",
       "      <td>32.000000</td>\n",
       "      <td>1.993306</td>\n",
       "      <td>4.017967</td>\n",
       "      <td>7.552549</td>\n",
       "      <td>19.323394</td>\n",
       "      <td>31.891712</td>\n",
       "      <td>42.249471</td>\n",
       "      <td>58.718724</td>\n",
       "      <td>75.805574</td>\n",
       "      <td>88.264071</td>\n",
       "    </tr>\n",
       "    <tr>\n",
       "      <th>std</th>\n",
       "      <td>1182.55768</td>\n",
       "      <td>18.475209</td>\n",
       "      <td>18.475209</td>\n",
       "      <td>1.849883</td>\n",
       "      <td>4.003144</td>\n",
       "      <td>7.658317</td>\n",
       "      <td>19.080365</td>\n",
       "      <td>31.270080</td>\n",
       "      <td>39.501338</td>\n",
       "      <td>56.133565</td>\n",
       "      <td>76.390728</td>\n",
       "      <td>79.513884</td>\n",
       "    </tr>\n",
       "    <tr>\n",
       "      <th>min</th>\n",
       "      <td>0.00000</td>\n",
       "      <td>0.500000</td>\n",
       "      <td>0.500000</td>\n",
       "      <td>0.000000</td>\n",
       "      <td>0.000000</td>\n",
       "      <td>0.000000</td>\n",
       "      <td>0.000000</td>\n",
       "      <td>0.000000</td>\n",
       "      <td>0.000000</td>\n",
       "      <td>0.000000</td>\n",
       "      <td>0.000000</td>\n",
       "      <td>0.000000</td>\n",
       "    </tr>\n",
       "    <tr>\n",
       "      <th>25%</th>\n",
       "      <td>1023.75000</td>\n",
       "      <td>16.250000</td>\n",
       "      <td>16.250000</td>\n",
       "      <td>0.474756</td>\n",
       "      <td>0.898346</td>\n",
       "      <td>1.613829</td>\n",
       "      <td>4.480010</td>\n",
       "      <td>6.958344</td>\n",
       "      <td>10.634926</td>\n",
       "      <td>15.245858</td>\n",
       "      <td>22.668290</td>\n",
       "      <td>25.275349</td>\n",
       "    </tr>\n",
       "    <tr>\n",
       "      <th>50%</th>\n",
       "      <td>2047.50000</td>\n",
       "      <td>32.000000</td>\n",
       "      <td>32.000000</td>\n",
       "      <td>1.163430</td>\n",
       "      <td>2.134510</td>\n",
       "      <td>3.854949</td>\n",
       "      <td>10.045907</td>\n",
       "      <td>17.872258</td>\n",
       "      <td>24.146146</td>\n",
       "      <td>31.755415</td>\n",
       "      <td>37.285351</td>\n",
       "      <td>54.567937</td>\n",
       "    </tr>\n",
       "    <tr>\n",
       "      <th>75%</th>\n",
       "      <td>3071.25000</td>\n",
       "      <td>47.750000</td>\n",
       "      <td>47.750000</td>\n",
       "      <td>3.665382</td>\n",
       "      <td>6.996849</td>\n",
       "      <td>13.579687</td>\n",
       "      <td>34.418367</td>\n",
       "      <td>56.016385</td>\n",
       "      <td>77.892036</td>\n",
       "      <td>108.528007</td>\n",
       "      <td>138.112588</td>\n",
       "      <td>158.637564</td>\n",
       "    </tr>\n",
       "    <tr>\n",
       "      <th>max</th>\n",
       "      <td>4095.00000</td>\n",
       "      <td>63.500000</td>\n",
       "      <td>63.500000</td>\n",
       "      <td>6.641083</td>\n",
       "      <td>14.961144</td>\n",
       "      <td>28.383260</td>\n",
       "      <td>70.789208</td>\n",
       "      <td>117.063595</td>\n",
       "      <td>148.491476</td>\n",
       "      <td>219.652855</td>\n",
       "      <td>302.729826</td>\n",
       "      <td>317.422418</td>\n",
       "    </tr>\n",
       "  </tbody>\n",
       "</table>\n",
       "</div>"
      ],
      "text/plain": [
       "       demand_point_index  x_coordinate  y_coordinate         2010  \\\n",
       "count          4096.00000   4096.000000   4096.000000  4096.000000   \n",
       "mean           2047.50000     32.000000     32.000000     1.993306   \n",
       "std            1182.55768     18.475209     18.475209     1.849883   \n",
       "min               0.00000      0.500000      0.500000     0.000000   \n",
       "25%            1023.75000     16.250000     16.250000     0.474756   \n",
       "50%            2047.50000     32.000000     32.000000     1.163430   \n",
       "75%            3071.25000     47.750000     47.750000     3.665382   \n",
       "max            4095.00000     63.500000     63.500000     6.641083   \n",
       "\n",
       "              2011         2012         2013         2014         2015  \\\n",
       "count  4096.000000  4096.000000  4096.000000  4096.000000  4096.000000   \n",
       "mean      4.017967     7.552549    19.323394    31.891712    42.249471   \n",
       "std       4.003144     7.658317    19.080365    31.270080    39.501338   \n",
       "min       0.000000     0.000000     0.000000     0.000000     0.000000   \n",
       "25%       0.898346     1.613829     4.480010     6.958344    10.634926   \n",
       "50%       2.134510     3.854949    10.045907    17.872258    24.146146   \n",
       "75%       6.996849    13.579687    34.418367    56.016385    77.892036   \n",
       "max      14.961144    28.383260    70.789208   117.063595   148.491476   \n",
       "\n",
       "              2016         2017         2018  \n",
       "count  4096.000000  4096.000000  4096.000000  \n",
       "mean     58.718724    75.805574    88.264071  \n",
       "std      56.133565    76.390728    79.513884  \n",
       "min       0.000000     0.000000     0.000000  \n",
       "25%      15.245858    22.668290    25.275349  \n",
       "50%      31.755415    37.285351    54.567937  \n",
       "75%     108.528007   138.112588   158.637564  \n",
       "max     219.652855   302.729826   317.422418  "
      ]
     },
     "execution_count": 8,
     "metadata": {},
     "output_type": "execute_result"
    }
   ],
   "source": [
    "Demand_History.describe(include='all') #descriptive statistics"
   ]
  },
  {
   "cell_type": "code",
   "execution_count": 9,
   "id": "1e236340",
   "metadata": {},
   "outputs": [],
   "source": [
    "def calculate_Distij(demand_point_x=Demand_History['x_coordinate'], \n",
    "                    demand_point_y=Demand_History['y_coordinate'],\n",
    "                    supply_point_x = Existing['x_coordinate'],\n",
    "                    supply_point_y=Existing['y_coordinate']): \n",
    "    # for x coord\n",
    "    newdf = pd.DataFrame()\n",
    "    lis = []\n",
    "    for i in demand_point_x:\n",
    "        for j in supply_point_x:\n",
    "            lis.append(i-j)\n",
    "    lisarr = np.asarray(lis)\n",
    "    #print(lisarr)\n",
    "    # for y coord\n",
    "    lis1 = []\n",
    "    for i in demand_point_y:\n",
    "        for j in supply_point_y:\n",
    "            lis1.append(i-j)\n",
    "    lisarr1 = np.asarray(lis1)\n",
    "    lis2 = []\n",
    "    #Calculating linear distances between two points\n",
    "    for x, y in zip(lisarr, lisarr1):\n",
    "        lis2.append(np.sqrt(x**2 + y**2))\n",
    "    Distij = np.asarray(lis2)\n",
    "    #dist1 is the copy of the reshaped dist value\n",
    "    Distij = Distij.reshape(4096, 100)\n",
    "    #print(dist1.shape)\n",
    "    return Distij"
   ]
  },
  {
   "cell_type": "code",
   "execution_count": 10,
   "id": "4eae6874",
   "metadata": {},
   "outputs": [],
   "source": [
    "x = calculate_Distij()"
   ]
  },
  {
   "cell_type": "code",
   "execution_count": 11,
   "id": "cc6938bb",
   "metadata": {},
   "outputs": [],
   "source": [
    "def truncate_min_k(x, k, inplace=False):\n",
    "    m, n = x.shape\n",
    "    # get (unsorted) indices of top-k values\n",
    "    mink_indices = np.argpartition(x, k, axis=1)[:, :k]\n",
    "    # get k-th value\n",
    "    rows, _ = np.indices((m, k))\n",
    "    kth_vals = x[rows, mink_indices].max(axis=1)\n",
    "    # get boolean mask of values smaller than k-th\n",
    "    is_greater_than_kth = x > kth_vals[:, None]\n",
    "    # replace mask by 0\n",
    "    if not inplace:\n",
    "        return np.where(is_greater_than_kth, 0, x)\n",
    "    x[is_greater_than_kth] = 0\n",
    "    return x"
   ]
  },
  {
   "cell_type": "code",
   "execution_count": 12,
   "id": "9b82a52b",
   "metadata": {},
   "outputs": [
    {
     "data": {
      "text/plain": [
       "(4096, 100)"
      ]
     },
     "execution_count": 12,
     "metadata": {},
     "output_type": "execute_result"
    }
   ],
   "source": [
    "k=10\n",
    "min_k = truncate_min_k(x, k=k)\n",
    "min_k.shape"
   ]
  },
  {
   "cell_type": "code",
   "execution_count": 13,
   "id": "28db1f81",
   "metadata": {},
   "outputs": [],
   "source": [
    "def summation_Dist():\n",
    "    real_sum = []\n",
    "    for i in range(4096):\n",
    "        real_sum.append(min_k[i].sum())\n",
    "        \n",
    "    sum_dist = np.asarray(real_sum)[:, None]\n",
    "    return sum_dist"
   ]
  },
  {
   "cell_type": "code",
   "execution_count": 14,
   "id": "55b82668",
   "metadata": {},
   "outputs": [],
   "source": [
    "sum_dist = summation_Dist()"
   ]
  },
  {
   "cell_type": "code",
   "execution_count": 15,
   "id": "81c6812b",
   "metadata": {},
   "outputs": [],
   "source": [
    "def supply_demand(Dforecast=Demand_History['2018'].values[:, None]):  \n",
    "    \"\"\"\n",
    "    Constraint5: \n",
    "    inputs:\n",
    "    trunmin: This is the truncated minimum distances of each demand points from\n",
    "    every supply points\n",
    "    di: This is the forecasted demands for a particular year\n",
    "    sum_dist: This is the sum of the truncated distances of each demand point from every \n",
    "    supply points reshaped into 4096 X 1 to match the broadcastable shape of 'trunmin'\n",
    "    \n",
    "    Return:\n",
    "        demand satisfied by each supply point by the demand point\n",
    "    \"\"\"\n",
    "    sum_dist = summation_Dist()\n",
    "    min_k = truncate_min_k(x, k).reshape(4096, -1)    \n",
    "    lis = []\n",
    "    for j in range(4096):\n",
    "        for distance in min_k[j]: #changed to minfive\n",
    "            #for x, y, z in zip(min_sup, sum_dist[0], di[0]):\n",
    "              #  lis.append((x*z)/y)\n",
    "            lis.append((distance*Dforecast[j])/sum_dist[j])\n",
    " \n",
    "    \n",
    "    return np.asarray(lis)"
   ]
  },
  {
   "cell_type": "code",
   "execution_count": 16,
   "id": "58db053f",
   "metadata": {},
   "outputs": [
    {
     "data": {
      "text/plain": [
       "(409600, 1)"
      ]
     },
     "execution_count": 16,
     "metadata": {},
     "output_type": "execute_result"
    }
   ],
   "source": [
    "DSij = supply_demand()\n",
    "DSij.shape"
   ]
  },
  {
   "cell_type": "code",
   "execution_count": 17,
   "id": "558dc59f",
   "metadata": {},
   "outputs": [],
   "source": [
    "Existing['scs_cap'] = Existing['existing_num_SCS']*200\n",
    "Existing['fcs_cap'] = Existing['existing_num_FCS']*400\n",
    "Existing['total_cap'] = Existing['scs_cap']+ Existing['fcs_cap']\n",
    "Existing['parking_cap'] = (Existing['total_parking_slots'] - Existing['existing_num_SCS']) * 400 + (Existing['existing_num_SCS']) * 200\n",
    "Existing['available_cap'] = Existing['parking_cap'] - Existing['total_cap']"
   ]
  },
  {
   "cell_type": "code",
   "execution_count": 18,
   "id": "81a8560a",
   "metadata": {},
   "outputs": [
    {
     "data": {
      "text/plain": [
       "(4096,)"
      ]
     },
     "execution_count": 18,
     "metadata": {},
     "output_type": "execute_result"
    }
   ],
   "source": [
    "Demand_History['2018'].shape"
   ]
  },
  {
   "cell_type": "code",
   "execution_count": 19,
   "id": "297aa4cd",
   "metadata": {},
   "outputs": [],
   "source": [
    "def add_infrastructure(Dforecast=Demand_History['2018'].values[:, None]):\n",
    "    \"\"\"\n",
    "    purpose: This function calculates the number of additional infrastructure \n",
    "    needed at every(100) supply points over all the demand points.\n",
    "    Particularly optimizing for more FCS if more infrastructure is\n",
    "    needed\n",
    "    inputs:\n",
    "    sup_cap:\n",
    "    This is the overall calculated supply capacity returned by our model(calculation parameters)\n",
    "    scs_cap{constant}:\n",
    "    This is the supply or charging capacity of slow charging station at every supply point\n",
    "    const_total{constant}:\n",
    "    This is the constant total charging capacity at every supply point\n",
    "    \"\"\"\n",
    "    newval =  supply_demand(Dforecast)\n",
    "    newval = newval.reshape(100, -1)\n",
    "    DS = np.sum(newval, 1)\n",
    "    smax= Existing['total_cap'].values\n",
    "    lis = []# for fast charging stations\n",
    "    for DSij, Smax in zip(DS, smax):\n",
    "    \n",
    "        result = Smax - DSij\n",
    "        if result >= 0:\n",
    "            lis.append(0)\n",
    "        else:\n",
    "            result = abs(result)\n",
    "            lis.append((result//400) + 1) #+1 removed\n",
    "\n",
    "        \n",
    "    \n",
    "    more_infra = np.asarray(lis) # capacity to add\n",
    "    return more_infra"
   ]
  },
  {
   "cell_type": "code",
   "execution_count": 20,
   "id": "b104c8f5",
   "metadata": {},
   "outputs": [
    {
     "data": {
      "text/plain": [
       "array([ 0.,  0.,  0.,  0.,  0.,  0.,  0.,  0.,  2.,  0.,  6.,  0.,  0.,\n",
       "        0.,  0.,  0.,  2.,  3.,  0.,  0.,  0.,  0.,  1.,  0.,  0.,  0.,\n",
       "        0.,  1.,  0.,  1.,  5.,  0.,  0.,  1.,  2.,  5.,  1.,  1.,  7.,\n",
       "        2.,  1., 11.,  0.,  1., 11.,  1.,  6., 11.,  0.,  1.,  1.,  9.,\n",
       "        9.,  0.,  0., 15.,  2., 11., 10.,  4., 11., 12.,  0.,  9., 10.,\n",
       "        0., 17.,  0.,  2.,  8.,  2.,  4., 10.,  5., 17.,  0.,  9.,  6.,\n",
       "        0.,  3.,  7.,  0.,  2.,  4.,  1.,  0.,  0.,  0.,  6.,  0.,  0.,\n",
       "        0.,  0.,  0.,  0.,  0.,  0.,  0.,  0.,  0.])"
      ]
     },
     "execution_count": 20,
     "metadata": {},
     "output_type": "execute_result"
    }
   ],
   "source": [
    "to_add = add_infrastructure()\n",
    "to_add"
   ]
  },
  {
   "cell_type": "code",
   "execution_count": 22,
   "id": "b595b29b",
   "metadata": {},
   "outputs": [],
   "source": [
    "def excess_charging_cap(Dforecast=Demand_History['2018'].values[:, None], k=k):\n",
    "    #Existing['new_FCS'] = Existing['existing_num_FCS'].values + to_add\n",
    "    to_add = add_infrastructure(Dforecast)\n",
    "    Existing['add_cap'] = to_add * 400\n",
    "    Existing['excess_cap'] = Existing['available_cap'] - Existing['add_cap']\n",
    "    #print(Existing['excess_cap'])\n",
    "    excess=[]\n",
    "    for i in Existing['excess_cap']:\n",
    "        if i >= 0:\n",
    "            excess.append(0)\n",
    "        elif i < 0:\n",
    "            excess.append(i)\n",
    "    excess = np.asarray(excess)\n",
    "    #print(len(excess))\n",
    "    return excess"
   ]
  },
  {
   "cell_type": "code",
   "execution_count": 23,
   "id": "c735648e",
   "metadata": {},
   "outputs": [
    {
     "data": {
      "text/plain": [
       "array([    0.,     0.,     0.,     0.,     0.,     0.,     0.,     0.,\n",
       "           0.,     0.,     0.,     0.,     0.,     0.,     0.,     0.,\n",
       "           0.,     0.,     0.,     0.,     0.,     0.,     0.,     0.,\n",
       "           0.,     0.,     0.,     0.,     0.,     0.,     0.,     0.,\n",
       "           0.,     0.,     0.,     0.,     0.,     0.,     0.,     0.,\n",
       "           0.,     0.,     0.,     0.,     0.,     0.,     0.,     0.,\n",
       "           0.,     0.,     0.,  -800.,     0.,     0.,     0., -1200.,\n",
       "           0.,     0.,  -400.,     0., -2400., -1600.,     0.,  -800.,\n",
       "           0.,     0., -2800.,     0.,     0.,     0.,     0.,     0.,\n",
       "           0.,     0., -4000.,     0., -2000.,     0.,     0.,     0.,\n",
       "           0.,     0.,     0.,     0.,     0.,     0.,     0.,     0.,\n",
       "           0.,     0.,     0.,     0.,     0.,     0.,     0.,     0.,\n",
       "           0.,     0.,     0.,     0.])"
      ]
     },
     "execution_count": 23,
     "metadata": {},
     "output_type": "execute_result"
    }
   ],
   "source": [
    "excess_charging_cap()"
   ]
  },
  {
   "cell_type": "code",
   "execution_count": 24,
   "id": "543d178a",
   "metadata": {},
   "outputs": [
    {
     "data": {
      "text/plain": [
       "array([ 6000.,  6400.,  4400.,  6400.,  6000.,  5200.,  3200.,  8000.,\n",
       "        7200.,  4000.,   800.,  3200.,  4800.,  6400.,  5600.,  5200.,\n",
       "        2000.,     0.,  6800.,  5600.,  3600.,  4000.,  4000.,  5200.,\n",
       "        4000.,  4800.,  5200.,  6400.,  6000.,  7200.,  2800.,  7200.,\n",
       "        6800.,  6000.,  4400.,   400.,  6400.,  1600.,  1600.,  6000.,\n",
       "        4000.,  1200.,  6000.,  6400.,     0.,  6800.,  4400.,  1600.,\n",
       "        4400.,  3600.,  5600.,  -800.,  3200.,  6400.,  7600., -1200.,\n",
       "        4800.,     0.,  -400.,  3600., -2400., -1600.,  6400.,  -800.,\n",
       "        2000.,  7200., -2800.,  4800.,  4000.,  4400.,  6800.,  4800.,\n",
       "        1200.,  5200., -4000.,  6000., -2000.,  2000.,  6800.,  5600.,\n",
       "         400.,  8400.,  2800.,  3600.,     0.,  4000.,  5600.,  5600.,\n",
       "        2400.,  7200.,  4000.,  8400.,  4000.,  5200.,  5600.,  6800.,\n",
       "        6800.,  5600.,  6400.,  4400.])"
      ]
     },
     "execution_count": 24,
     "metadata": {},
     "output_type": "execute_result"
    }
   ],
   "source": [
    "Existing['new_FCS'] = Existing['existing_num_FCS'].values + to_add\n",
    "Existing['new_FCS_cap'] = Existing['new_FCS'] * 400\n",
    "Existing['excess_charge_cap'] = Existing['parking_cap'] - (Existing['scs_cap'] + Existing['new_FCS_cap'])\n",
    "Existing['excess_charge_cap'].values"
   ]
  },
  {
   "cell_type": "code",
   "execution_count": 25,
   "id": "089db03e",
   "metadata": {},
   "outputs": [],
   "source": [
    "def adjusted_forecast(Dforecast=Demand_History['2018'].values[:, None], k=k):\n",
    "    parking_cap = Existing['parking_cap'].values\n",
    "    parking_cap.shape\n",
    "    excess_cap = Existing['excess_charge_cap'].values\n",
    "    excess = excess_charging_cap(Dforecast, k=k)\n",
    "    newval =  supply_demand().reshape(100, -1)\n",
    "    #print(newval)\n",
    "    max_sup_cap = []\n",
    "    \n",
    "    for i in range(len(excess)):\n",
    "        div_factor = excess[i]/(4096)\n",
    "        #print(div_factor)\n",
    "        max_sup_cap.append(newval[i] + div_factor)\n",
    "    max_sup_cap = np.asarray(max_sup_cap)#.reshape(4096, -1)\n",
    "    \n",
    "    forecasted = []\n",
    "    for i in range(4096):\n",
    "        for cap in max_sup_cap:\n",
    "            forecasted.append(cap[i])\n",
    "    forecasted = np.asarray(forecasted)\n",
    "    return forecasted"
   ]
  },
  {
   "cell_type": "code",
   "execution_count": 26,
   "id": "3cf9a786",
   "metadata": {},
   "outputs": [
    {
     "data": {
      "text/plain": [
       "345529.6365968907"
      ]
     },
     "execution_count": 26,
     "metadata": {},
     "output_type": "execute_result"
    }
   ],
   "source": [
    "refined_forecast = adjusted_forecast()\n",
    "refined_forecast.sum()"
   ]
  },
  {
   "cell_type": "code",
   "execution_count": 27,
   "id": "9a5b888d",
   "metadata": {},
   "outputs": [
    {
     "data": {
      "text/plain": [
       "(4096,)"
      ]
     },
     "execution_count": 27,
     "metadata": {},
     "output_type": "execute_result"
    }
   ],
   "source": [
    "forecasty = np.sum(refined_forecast.reshape(4096, -1), 1)\n",
    "forecasty.shape"
   ]
  },
  {
   "cell_type": "code",
   "execution_count": 28,
   "id": "1b593529",
   "metadata": {},
   "outputs": [
    {
     "name": "stdout",
     "output_type": "stream",
     "text": [
      "175.0\n"
     ]
    },
    {
     "data": {
      "text/plain": [
       "array([3., 0., 0., 2., 0., 0., 0., 0., 4., 1., 6., 1., 2., 1., 0., 1., 5.,\n",
       "       8., 0., 0., 0., 0., 4., 0., 3., 0., 0., 2., 0., 4., 5., 0., 0., 0.,\n",
       "       6., 7., 0., 4., 2., 1., 0., 2., 0., 0., 3., 0., 0., 7., 0., 0., 0.,\n",
       "       6., 2., 0., 0., 7., 0., 6., 2., 3., 5., 8., 0., 1., 5., 0., 6., 0.,\n",
       "       0., 1., 0., 0., 3., 4., 7., 0., 6., 0., 0., 0., 0., 0., 0., 0., 5.,\n",
       "       0., 0., 1., 7., 0., 0., 0., 2., 0., 0., 3., 0., 0., 1., 0.])"
      ]
     },
     "execution_count": 28,
     "metadata": {},
     "output_type": "execute_result"
    }
   ],
   "source": [
    "infrastructure_to_add = add_infrastructure(Dforecast=forecasty[:, None])\n",
    "print(infrastructure_to_add.sum())\n",
    "infrastructure_to_add"
   ]
  },
  {
   "cell_type": "code",
   "execution_count": 29,
   "id": "2c50461e",
   "metadata": {},
   "outputs": [
    {
     "data": {
      "text/plain": [
       "361529.6365968907"
      ]
     },
     "execution_count": 29,
     "metadata": {},
     "output_type": "execute_result"
    }
   ],
   "source": [
    "Demand_History['2018'].values[:, None].sum()"
   ]
  },
  {
   "cell_type": "markdown",
   "id": "ddbd7570",
   "metadata": {},
   "source": [
    "# Naive forecasting to test our model and constraint satisfaction\n",
    "Here I assume that the demand for 2018 is exactly the same\n",
    "as the demand for 2019 and that there is a +3 increase in all demand values\n",
    "\n",
    "Forecasting for 2019\n",
    "\n",
    "The forecast is basically the 2018 data that I used as forecast to evaluate the constraints. All we need to do is to use the result in the refined forecast above and the result in infrastructure_to_add above, for adding infrastructures"
   ]
  },
  {
   "cell_type": "code",
   "execution_count": 30,
   "id": "76897e48",
   "metadata": {},
   "outputs": [
    {
     "name": "stdout",
     "output_type": "stream",
     "text": [
      "619.0\n",
      "794.0\n"
     ]
    }
   ],
   "source": [
    "infrastructure_to_add = infrastructure_to_add.reshape(-1, 100)\n",
    "add_fcs_nineteen = infrastructure_to_add # since I optimized for fcs\n",
    "new_fcs_cap1 = Existing['existing_num_FCS'].values + add_fcs_nineteen\n",
    "sub_arr = sample_submission\n",
    "print(sub_arr['value'].values[100:200].sum())\n",
    "sub_arr['value'].values[100:200] = new_fcs_cap1\n",
    "print(sub_arr['value'].values[100:200].sum())"
   ]
  },
  {
   "cell_type": "markdown",
   "id": "64e6143b",
   "metadata": {},
   "source": [
    "# For demand values for 2019:"
   ]
  },
  {
   "cell_type": "code",
   "execution_count": 31,
   "id": "0d05e4d1",
   "metadata": {},
   "outputs": [
    {
     "name": "stdout",
     "output_type": "stream",
     "text": [
      "361589.5405005043\n",
      "345529.6365968907\n"
     ]
    }
   ],
   "source": [
    "print(sub_arr['value'].values[200:409800].sum())\n",
    "sub_arr['value'].values[200:409800] = refined_forecast\n",
    "print(sub_arr['value'].values[200:409800].sum())"
   ]
  },
  {
   "cell_type": "markdown",
   "id": "273835e3",
   "metadata": {},
   "source": [
    "# Forecasting for 2020"
   ]
  },
  {
   "cell_type": "code",
   "execution_count": 32,
   "id": "c081c535",
   "metadata": {},
   "outputs": [],
   "source": [
    "twenty_forecast = Demand_History['2018'] + 3\n",
    "k=10"
   ]
  },
  {
   "cell_type": "code",
   "execution_count": 33,
   "id": "b68644f9",
   "metadata": {},
   "outputs": [
    {
     "data": {
      "text/plain": [
       "array([[0.],\n",
       "       [0.],\n",
       "       [0.],\n",
       "       ...,\n",
       "       [0.],\n",
       "       [0.],\n",
       "       [0.]])"
      ]
     },
     "execution_count": 33,
     "metadata": {},
     "output_type": "execute_result"
    }
   ],
   "source": [
    "supply_demand(twenty_forecast.values[:, None])"
   ]
  },
  {
   "cell_type": "code",
   "execution_count": 34,
   "id": "24139c3f",
   "metadata": {},
   "outputs": [
    {
     "data": {
      "text/plain": [
       "array([ 0.,  0.,  0.,  0.,  0.,  0.,  0.,  0.,  2.,  0.,  6.,  0.,  0.,\n",
       "        0.,  0.,  0.,  3.,  3.,  0.,  0.,  0.,  0.,  1.,  0.,  0.,  0.,\n",
       "        0.,  2.,  0.,  2.,  5.,  0.,  0.,  1.,  3.,  5.,  1.,  1.,  7.,\n",
       "        2.,  1., 12.,  1.,  1., 11.,  2.,  6., 11.,  0.,  1.,  1.,  9.,\n",
       "        9.,  0.,  0., 16.,  2., 11., 10.,  4., 11., 13.,  0.,  9., 10.,\n",
       "        0., 17.,  0.,  2.,  8.,  2.,  4., 10.,  5., 18.,  0.,  9.,  6.,\n",
       "        0.,  3.,  7.,  0.,  3.,  4.,  1.,  0.,  0.,  0.,  6.,  0.,  0.,\n",
       "        0.,  0.,  0.,  0.,  0.,  0.,  0.,  0.,  0.])"
      ]
     },
     "execution_count": 34,
     "metadata": {},
     "output_type": "execute_result"
    }
   ],
   "source": [
    "Existing['scs_cap'] = Existing['existing_num_SCS']*200\n",
    "Existing['fcs_cap'] = Existing['existing_num_FCS']*400\n",
    "Existing['total_cap'] = Existing['scs_cap']+ Existing['fcs_cap']\n",
    "Existing['parking_cap'] = (Existing['total_parking_slots'] - Existing['existing_num_SCS']) * 400 + (Existing['existing_num_SCS']) * 200\n",
    "Existing['available_cap'] = Existing['parking_cap'] - Existing['total_cap']\n",
    "add_infrastructure(Dforecast=twenty_forecast.values[:, None])"
   ]
  },
  {
   "cell_type": "code",
   "execution_count": 35,
   "id": "6be969c5",
   "metadata": {},
   "outputs": [
    {
     "data": {
      "text/plain": [
       "array([    0.,     0.,     0.,     0.,     0.,     0.,     0.,     0.,\n",
       "           0.,     0.,     0.,     0.,     0.,     0.,     0.,     0.,\n",
       "           0.,     0.,     0.,     0.,     0.,     0.,     0.,     0.,\n",
       "           0.,     0.,     0.,     0.,     0.,     0.,     0.,     0.,\n",
       "           0.,     0.,     0.,     0.,     0.,     0.,     0.,     0.,\n",
       "           0.,     0.,     0.,     0.,     0.,     0.,     0.,     0.,\n",
       "           0.,     0.,     0.,  -800.,     0.,     0.,     0., -1600.,\n",
       "           0.,     0.,  -400.,     0., -2400., -2000.,     0.,  -800.,\n",
       "           0.,     0., -2800.,     0.,     0.,     0.,     0.,     0.,\n",
       "           0.,     0., -4400.,     0., -2000.,     0.,     0.,     0.,\n",
       "           0.,     0.,     0.,     0.,     0.,     0.,     0.,     0.,\n",
       "           0.,     0.,     0.,     0.,     0.,     0.,     0.,     0.,\n",
       "           0.,     0.,     0.,     0.])"
      ]
     },
     "execution_count": 35,
     "metadata": {},
     "output_type": "execute_result"
    }
   ],
   "source": [
    "excess_charging_cap(Dforecast=twenty_forecast.values[:, None], k=k)"
   ]
  },
  {
   "cell_type": "code",
   "execution_count": 36,
   "id": "8e7f4edf",
   "metadata": {},
   "outputs": [
    {
     "data": {
      "text/plain": [
       "array([ 6000.,  6400.,  4400.,  6400.,  6000.,  5200.,  3200.,  8000.,\n",
       "        7200.,  4000.,   800.,  3200.,  4800.,  6400.,  5600.,  5200.,\n",
       "        2000.,     0.,  6800.,  5600.,  3600.,  4000.,  4000.,  5200.,\n",
       "        4000.,  4800.,  5200.,  6400.,  6000.,  7200.,  2800.,  7200.,\n",
       "        6800.,  6000.,  4400.,   400.,  6400.,  1600.,  1600.,  6000.,\n",
       "        4000.,  1200.,  6000.,  6400.,     0.,  6800.,  4400.,  1600.,\n",
       "        4400.,  3600.,  5600.,  -800.,  3200.,  6400.,  7600., -1200.,\n",
       "        4800.,     0.,  -400.,  3600., -2400., -1600.,  6400.,  -800.,\n",
       "        2000.,  7200., -2800.,  4800.,  4000.,  4400.,  6800.,  4800.,\n",
       "        1200.,  5200., -4000.,  6000., -2000.,  2000.,  6800.,  5600.,\n",
       "         400.,  8400.,  2800.,  3600.,     0.,  4000.,  5600.,  5600.,\n",
       "        2400.,  7200.,  4000.,  8400.,  4000.,  5200.,  5600.,  6800.,\n",
       "        6800.,  5600.,  6400.,  4400.])"
      ]
     },
     "execution_count": 36,
     "metadata": {},
     "output_type": "execute_result"
    }
   ],
   "source": [
    "Existing['new_FCS'] = Existing['existing_num_FCS'].values + to_add\n",
    "Existing['new_FCS_cap'] = Existing['new_FCS'] * 400\n",
    "Existing['excess_charge_cap'] = Existing['parking_cap'] - (Existing['scs_cap'] + Existing['new_FCS_cap'])\n",
    "Existing['excess_charge_cap'].values"
   ]
  },
  {
   "cell_type": "code",
   "execution_count": 37,
   "id": "a2a37ad0",
   "metadata": {},
   "outputs": [
    {
     "data": {
      "text/plain": [
       "373817.6365968907"
      ]
     },
     "execution_count": 37,
     "metadata": {},
     "output_type": "execute_result"
    }
   ],
   "source": [
    "twenty_forecast.values.sum()"
   ]
  },
  {
   "cell_type": "code",
   "execution_count": 38,
   "id": "44f1a7df",
   "metadata": {},
   "outputs": [
    {
     "data": {
      "text/plain": [
       "array([0.        , 0.        , 5.85623275, ..., 0.        , 0.6789755 ,\n",
       "       0.        ])"
      ]
     },
     "execution_count": 38,
     "metadata": {},
     "output_type": "execute_result"
    }
   ],
   "source": [
    "adjusted_forecast(Dforecast=twenty_forecast.values[:, None], k=k)"
   ]
  },
  {
   "cell_type": "code",
   "execution_count": 39,
   "id": "eba877e3",
   "metadata": {},
   "outputs": [
    {
     "data": {
      "text/plain": [
       "array([0.        , 0.        , 5.85623275, ..., 0.        , 0.6789755 ,\n",
       "       0.        ])"
      ]
     },
     "execution_count": 39,
     "metadata": {},
     "output_type": "execute_result"
    }
   ],
   "source": [
    "adjusted_forecast()"
   ]
  },
  {
   "cell_type": "code",
   "execution_count": 40,
   "id": "e8147d30",
   "metadata": {},
   "outputs": [],
   "source": [
    "\n",
    "refined_forecast_twenty = adjusted_forecast(Dforecast=twenty_forecast.values[:, None], k=k)"
   ]
  },
  {
   "cell_type": "code",
   "execution_count": 41,
   "id": "d3aa3ba2",
   "metadata": {},
   "outputs": [
    {
     "data": {
      "text/plain": [
       "(4096,)"
      ]
     },
     "execution_count": 41,
     "metadata": {},
     "output_type": "execute_result"
    }
   ],
   "source": [
    "forecasty2 = np.sum(refined_forecast_twenty.reshape(4096, -1), 1)\n",
    "forecasty2.shape"
   ]
  },
  {
   "cell_type": "code",
   "execution_count": 42,
   "id": "aeb9c949",
   "metadata": {},
   "outputs": [
    {
     "data": {
      "text/plain": [
       "array([ 41.38746297,  98.8781994 , 124.19859965, ...,  54.37862105,\n",
       "        40.87988231,  92.08054368])"
      ]
     },
     "execution_count": 42,
     "metadata": {},
     "output_type": "execute_result"
    }
   ],
   "source": [
    "forecasty2"
   ]
  },
  {
   "cell_type": "code",
   "execution_count": 43,
   "id": "42484334",
   "metadata": {},
   "outputs": [
    {
     "name": "stdout",
     "output_type": "stream",
     "text": [
      "173.0\n"
     ]
    },
    {
     "data": {
      "text/plain": [
       "array([3., 0., 0., 2., 0., 0., 0., 0., 4., 1., 6., 1., 2., 1., 0., 1., 5.,\n",
       "       8., 0., 0., 0., 0., 4., 0., 3., 0., 0., 2., 0., 4., 5., 0., 0., 0.,\n",
       "       5., 7., 0., 4., 2., 1., 0., 2., 0., 0., 3., 0., 0., 7., 0., 0., 0.,\n",
       "       6., 1., 0., 0., 7., 0., 6., 2., 3., 5., 8., 0., 1., 5., 0., 6., 0.,\n",
       "       0., 1., 0., 0., 3., 4., 7., 0., 6., 0., 0., 0., 0., 0., 0., 0., 5.,\n",
       "       0., 0., 1., 7., 0., 0., 0., 2., 0., 0., 3., 0., 0., 1., 0.])"
      ]
     },
     "execution_count": 43,
     "metadata": {},
     "output_type": "execute_result"
    }
   ],
   "source": [
    "infrastructure_to_add2 = add_infrastructure(Dforecast=forecasty2[:, None])\n",
    "print(infrastructure_to_add2.sum())\n",
    "infrastructure_to_add2"
   ]
  },
  {
   "cell_type": "code",
   "execution_count": 45,
   "id": "c80e0025",
   "metadata": {},
   "outputs": [
    {
     "name": "stdout",
     "output_type": "stream",
     "text": [
      "[ 3.  7. 14.  5.  6.  6.  8.  6.  1.  5.  0.  4.  5.  5. 12.  6.  2.  0.\n",
      "  8.  8.  8.  8.  4.  7.  3. 10. 11.  4.  6.  3.  2.  9. 10.  7.  1.  1.\n",
      "  9.  4.  4.  6.  6.  4.  4. 10.  6.  6.  8.  1. 10. 13.  8.  1.  7. 16.\n",
      " 10.  1.  9.  1.  3.  3.  3.  0. 10.  5.  2. 11.  2. 13.  9.  6.  8.  7.\n",
      "  1.  4.  1. 15.  2. 11.  8.  6.  9.  7.  7.  6.  2.  7.  7.  5.  1. 10.\n",
      "  5. 12.  3.  6.  9.  4. 10. 14.  5. 11.]\n"
     ]
    }
   ],
   "source": [
    "print(sample_submission['value'].values[409900:410000])"
   ]
  },
  {
   "cell_type": "code",
   "execution_count": 46,
   "id": "e505b0de",
   "metadata": {},
   "outputs": [
    {
     "name": "stdout",
     "output_type": "stream",
     "text": [
      "0      3\n",
      "1      7\n",
      "2     14\n",
      "3      5\n",
      "4      6\n",
      "      ..\n",
      "95     4\n",
      "96    10\n",
      "97    14\n",
      "98     5\n",
      "99    11\n",
      "Name: existing_num_FCS, Length: 100, dtype: int64\n",
      "[[ 6.  7. 14.  7.  6.  6.  8.  6.  5.  6.  6.  5.  7.  6. 12.  7.  7.  8.\n",
      "   8.  8.  8.  8.  8.  7.  6. 10. 11.  6.  6.  7.  7.  9. 10.  7.  6.  8.\n",
      "   9.  8.  6.  7.  6.  6.  4. 10.  9.  6.  8.  8. 10. 13.  8.  7.  8. 16.\n",
      "  10.  8.  9.  7.  5.  6.  8.  8. 10.  6.  7. 11.  8. 13.  9.  7.  8.  7.\n",
      "   4.  8.  8. 15.  8. 11.  8.  6.  9.  7.  7.  6.  7.  7.  7.  6.  8. 10.\n",
      "   5. 12.  5.  6.  9.  7. 10. 14.  6. 11.]]\n",
      "[ 6.  7. 14.  7.  6.  6.  8.  6.  5.  6.  6.  5.  7.  6. 12.  7.  7.  8.\n",
      "  8.  8.  8.  8.  8.  7.  6. 10. 11.  6.  6.  7.  7.  9. 10.  7.  6.  8.\n",
      "  9.  8.  6.  7.  6.  6.  4. 10.  9.  6.  8.  8. 10. 13.  8.  7.  8. 16.\n",
      " 10.  8.  9.  7.  5.  6.  8.  8. 10.  6.  7. 11.  8. 13.  9.  7.  8.  7.\n",
      "  4.  8.  8. 15.  8. 11.  8.  6.  9.  7.  7.  6.  7.  7.  7.  6.  8. 10.\n",
      "  5. 12.  5.  6.  9.  7. 10. 14.  6. 11.]\n"
     ]
    }
   ],
   "source": [
    "infrastructure_to_add2 = infrastructure_to_add2.reshape(-1, 100)\n",
    "add_fcs_twenty = infrastructure_to_add2 # since I optimized for fcs\n",
    "print(Existing['existing_num_FCS'])\n",
    "new_fcs_cap2 = Existing['existing_num_FCS'].values + add_fcs_twenty\n",
    "print(new_fcs_cap2)\n",
    "sub_arr['value'].values[409900:410000] = new_fcs_cap2\n",
    "print(sub_arr['value'].values[409900:410000])"
   ]
  },
  {
   "cell_type": "code",
   "execution_count": 47,
   "id": "49ea857f",
   "metadata": {},
   "outputs": [
    {
     "data": {
      "text/plain": [
       "709845.1770973953"
      ]
     },
     "execution_count": 47,
     "metadata": {},
     "output_type": "execute_result"
    }
   ],
   "source": [
    "sub_arr['value'].values.sum()"
   ]
  },
  {
   "cell_type": "code",
   "execution_count": 48,
   "id": "a005224d",
   "metadata": {},
   "outputs": [
    {
     "data": {
      "text/plain": [
       "709845.1770973953"
      ]
     },
     "execution_count": 48,
     "metadata": {},
     "output_type": "execute_result"
    }
   ],
   "source": [
    "sample_submission['value'].values.sum()"
   ]
  },
  {
   "cell_type": "markdown",
   "id": "b04883b2",
   "metadata": {},
   "source": [
    "# For demand values in 2020"
   ]
  },
  {
   "cell_type": "code",
   "execution_count": 49,
   "id": "103a1dfb",
   "metadata": {},
   "outputs": [
    {
     "name": "stdout",
     "output_type": "stream",
     "text": [
      "361589.5405005043\n"
     ]
    }
   ],
   "source": [
    "print(sub_arr['value'].values[410000:].sum())"
   ]
  },
  {
   "cell_type": "code",
   "execution_count": 50,
   "id": "4660b767",
   "metadata": {},
   "outputs": [
    {
     "name": "stdout",
     "output_type": "stream",
     "text": [
      "345529.6365968907\n"
     ]
    }
   ],
   "source": [
    "sub_arr['value'].values[410000:] = refined_forecast\n",
    "print(sub_arr['value'].values[410000:].sum())"
   ]
  },
  {
   "cell_type": "code",
   "execution_count": 51,
   "id": "a1a76245",
   "metadata": {},
   "outputs": [
    {
     "data": {
      "text/html": [
       "<div>\n",
       "<style scoped>\n",
       "    .dataframe tbody tr th:only-of-type {\n",
       "        vertical-align: middle;\n",
       "    }\n",
       "\n",
       "    .dataframe tbody tr th {\n",
       "        vertical-align: top;\n",
       "    }\n",
       "\n",
       "    .dataframe thead th {\n",
       "        text-align: right;\n",
       "    }\n",
       "</style>\n",
       "<table border=\"1\" class=\"dataframe\">\n",
       "  <thead>\n",
       "    <tr style=\"text-align: right;\">\n",
       "      <th></th>\n",
       "      <th>supply_point_index</th>\n",
       "      <th>x_coordinate</th>\n",
       "      <th>y_coordinate</th>\n",
       "      <th>total_parking_slots</th>\n",
       "      <th>existing_num_SCS</th>\n",
       "      <th>existing_num_FCS</th>\n",
       "      <th>scs_cap</th>\n",
       "      <th>fcs_cap</th>\n",
       "      <th>total_cap</th>\n",
       "      <th>parking_cap</th>\n",
       "      <th>available_cap</th>\n",
       "      <th>add_cap</th>\n",
       "      <th>excess_cap</th>\n",
       "      <th>new_FCS</th>\n",
       "      <th>new_FCS_cap</th>\n",
       "      <th>excess_charge_cap</th>\n",
       "    </tr>\n",
       "  </thead>\n",
       "  <tbody>\n",
       "    <tr>\n",
       "      <th>0</th>\n",
       "      <td>0</td>\n",
       "      <td>50.163110</td>\n",
       "      <td>19.412014</td>\n",
       "      <td>23</td>\n",
       "      <td>5</td>\n",
       "      <td>3</td>\n",
       "      <td>1000</td>\n",
       "      <td>1200</td>\n",
       "      <td>2200</td>\n",
       "      <td>8200</td>\n",
       "      <td>6000</td>\n",
       "      <td>0.0</td>\n",
       "      <td>6000.0</td>\n",
       "      <td>3.0</td>\n",
       "      <td>1200.0</td>\n",
       "      <td>6000.0</td>\n",
       "    </tr>\n",
       "    <tr>\n",
       "      <th>1</th>\n",
       "      <td>1</td>\n",
       "      <td>37.336451</td>\n",
       "      <td>58.119225</td>\n",
       "      <td>27</td>\n",
       "      <td>4</td>\n",
       "      <td>7</td>\n",
       "      <td>800</td>\n",
       "      <td>2800</td>\n",
       "      <td>3600</td>\n",
       "      <td>10000</td>\n",
       "      <td>6400</td>\n",
       "      <td>0.0</td>\n",
       "      <td>6400.0</td>\n",
       "      <td>7.0</td>\n",
       "      <td>2800.0</td>\n",
       "      <td>6400.0</td>\n",
       "    </tr>\n",
       "    <tr>\n",
       "      <th>2</th>\n",
       "      <td>2</td>\n",
       "      <td>46.709232</td>\n",
       "      <td>57.525650</td>\n",
       "      <td>31</td>\n",
       "      <td>6</td>\n",
       "      <td>14</td>\n",
       "      <td>1200</td>\n",
       "      <td>5600</td>\n",
       "      <td>6800</td>\n",
       "      <td>11200</td>\n",
       "      <td>4400</td>\n",
       "      <td>0.0</td>\n",
       "      <td>4400.0</td>\n",
       "      <td>14.0</td>\n",
       "      <td>5600.0</td>\n",
       "      <td>4400.0</td>\n",
       "    </tr>\n",
       "    <tr>\n",
       "      <th>3</th>\n",
       "      <td>3</td>\n",
       "      <td>30.528626</td>\n",
       "      <td>55.379835</td>\n",
       "      <td>26</td>\n",
       "      <td>5</td>\n",
       "      <td>5</td>\n",
       "      <td>1000</td>\n",
       "      <td>2000</td>\n",
       "      <td>3000</td>\n",
       "      <td>9400</td>\n",
       "      <td>6400</td>\n",
       "      <td>0.0</td>\n",
       "      <td>6400.0</td>\n",
       "      <td>5.0</td>\n",
       "      <td>2000.0</td>\n",
       "      <td>6400.0</td>\n",
       "    </tr>\n",
       "    <tr>\n",
       "      <th>4</th>\n",
       "      <td>4</td>\n",
       "      <td>51.521781</td>\n",
       "      <td>35.116755</td>\n",
       "      <td>32</td>\n",
       "      <td>11</td>\n",
       "      <td>6</td>\n",
       "      <td>2200</td>\n",
       "      <td>2400</td>\n",
       "      <td>4600</td>\n",
       "      <td>10600</td>\n",
       "      <td>6000</td>\n",
       "      <td>0.0</td>\n",
       "      <td>6000.0</td>\n",
       "      <td>6.0</td>\n",
       "      <td>2400.0</td>\n",
       "      <td>6000.0</td>\n",
       "    </tr>\n",
       "  </tbody>\n",
       "</table>\n",
       "</div>"
      ],
      "text/plain": [
       "   supply_point_index  x_coordinate  y_coordinate  total_parking_slots  \\\n",
       "0                   0     50.163110     19.412014                   23   \n",
       "1                   1     37.336451     58.119225                   27   \n",
       "2                   2     46.709232     57.525650                   31   \n",
       "3                   3     30.528626     55.379835                   26   \n",
       "4                   4     51.521781     35.116755                   32   \n",
       "\n",
       "   existing_num_SCS  existing_num_FCS  scs_cap  fcs_cap  total_cap  \\\n",
       "0                 5                 3     1000     1200       2200   \n",
       "1                 4                 7      800     2800       3600   \n",
       "2                 6                14     1200     5600       6800   \n",
       "3                 5                 5     1000     2000       3000   \n",
       "4                11                 6     2200     2400       4600   \n",
       "\n",
       "   parking_cap  available_cap  add_cap  excess_cap  new_FCS  new_FCS_cap  \\\n",
       "0         8200           6000      0.0      6000.0      3.0       1200.0   \n",
       "1        10000           6400      0.0      6400.0      7.0       2800.0   \n",
       "2        11200           4400      0.0      4400.0     14.0       5600.0   \n",
       "3         9400           6400      0.0      6400.0      5.0       2000.0   \n",
       "4        10600           6000      0.0      6000.0      6.0       2400.0   \n",
       "\n",
       "   excess_charge_cap  \n",
       "0             6000.0  \n",
       "1             6400.0  \n",
       "2             4400.0  \n",
       "3             6400.0  \n",
       "4             6000.0  "
      ]
     },
     "execution_count": 51,
     "metadata": {},
     "output_type": "execute_result"
    }
   ],
   "source": [
    "Existing.head()"
   ]
  },
  {
   "cell_type": "code",
   "execution_count": 52,
   "id": "bd836c1a",
   "metadata": {},
   "outputs": [
    {
     "data": {
      "text/html": [
       "<div>\n",
       "<style scoped>\n",
       "    .dataframe tbody tr th:only-of-type {\n",
       "        vertical-align: middle;\n",
       "    }\n",
       "\n",
       "    .dataframe tbody tr th {\n",
       "        vertical-align: top;\n",
       "    }\n",
       "\n",
       "    .dataframe thead th {\n",
       "        text-align: right;\n",
       "    }\n",
       "</style>\n",
       "<table border=\"1\" class=\"dataframe\">\n",
       "  <thead>\n",
       "    <tr style=\"text-align: right;\">\n",
       "      <th></th>\n",
       "      <th>year</th>\n",
       "      <th>data_type</th>\n",
       "      <th>demand_point_index</th>\n",
       "      <th>supply_point_index</th>\n",
       "      <th>value</th>\n",
       "    </tr>\n",
       "  </thead>\n",
       "  <tbody>\n",
       "    <tr>\n",
       "      <th>100</th>\n",
       "      <td>2019</td>\n",
       "      <td>FCS</td>\n",
       "      <td>NaN</td>\n",
       "      <td>0</td>\n",
       "      <td>6.000000</td>\n",
       "    </tr>\n",
       "    <tr>\n",
       "      <th>101</th>\n",
       "      <td>2019</td>\n",
       "      <td>FCS</td>\n",
       "      <td>NaN</td>\n",
       "      <td>1</td>\n",
       "      <td>7.000000</td>\n",
       "    </tr>\n",
       "    <tr>\n",
       "      <th>102</th>\n",
       "      <td>2019</td>\n",
       "      <td>FCS</td>\n",
       "      <td>NaN</td>\n",
       "      <td>2</td>\n",
       "      <td>14.000000</td>\n",
       "    </tr>\n",
       "    <tr>\n",
       "      <th>103</th>\n",
       "      <td>2019</td>\n",
       "      <td>FCS</td>\n",
       "      <td>NaN</td>\n",
       "      <td>3</td>\n",
       "      <td>7.000000</td>\n",
       "    </tr>\n",
       "    <tr>\n",
       "      <th>104</th>\n",
       "      <td>2019</td>\n",
       "      <td>FCS</td>\n",
       "      <td>NaN</td>\n",
       "      <td>4</td>\n",
       "      <td>6.000000</td>\n",
       "    </tr>\n",
       "    <tr>\n",
       "      <th>...</th>\n",
       "      <td>...</td>\n",
       "      <td>...</td>\n",
       "      <td>...</td>\n",
       "      <td>...</td>\n",
       "      <td>...</td>\n",
       "    </tr>\n",
       "    <tr>\n",
       "      <th>819595</th>\n",
       "      <td>2020</td>\n",
       "      <td>DS</td>\n",
       "      <td>4095.0</td>\n",
       "      <td>95</td>\n",
       "      <td>0.000000</td>\n",
       "    </tr>\n",
       "    <tr>\n",
       "      <th>819596</th>\n",
       "      <td>2020</td>\n",
       "      <td>DS</td>\n",
       "      <td>4095.0</td>\n",
       "      <td>96</td>\n",
       "      <td>0.000000</td>\n",
       "    </tr>\n",
       "    <tr>\n",
       "      <th>819597</th>\n",
       "      <td>2020</td>\n",
       "      <td>DS</td>\n",
       "      <td>4095.0</td>\n",
       "      <td>97</td>\n",
       "      <td>0.000000</td>\n",
       "    </tr>\n",
       "    <tr>\n",
       "      <th>819598</th>\n",
       "      <td>2020</td>\n",
       "      <td>DS</td>\n",
       "      <td>4095.0</td>\n",
       "      <td>98</td>\n",
       "      <td>0.678976</td>\n",
       "    </tr>\n",
       "    <tr>\n",
       "      <th>819599</th>\n",
       "      <td>2020</td>\n",
       "      <td>DS</td>\n",
       "      <td>4095.0</td>\n",
       "      <td>99</td>\n",
       "      <td>0.000000</td>\n",
       "    </tr>\n",
       "  </tbody>\n",
       "</table>\n",
       "<p>819500 rows × 5 columns</p>\n",
       "</div>"
      ],
      "text/plain": [
       "        year data_type  demand_point_index  supply_point_index      value\n",
       "100     2019       FCS                 NaN                   0   6.000000\n",
       "101     2019       FCS                 NaN                   1   7.000000\n",
       "102     2019       FCS                 NaN                   2  14.000000\n",
       "103     2019       FCS                 NaN                   3   7.000000\n",
       "104     2019       FCS                 NaN                   4   6.000000\n",
       "...      ...       ...                 ...                 ...        ...\n",
       "819595  2020        DS              4095.0                  95   0.000000\n",
       "819596  2020        DS              4095.0                  96   0.000000\n",
       "819597  2020        DS              4095.0                  97   0.000000\n",
       "819598  2020        DS              4095.0                  98   0.678976\n",
       "819599  2020        DS              4095.0                  99   0.000000\n",
       "\n",
       "[819500 rows x 5 columns]"
      ]
     },
     "execution_count": 52,
     "metadata": {},
     "output_type": "execute_result"
    }
   ],
   "source": [
    "sub_arr[100:]"
   ]
  },
  {
   "cell_type": "code",
   "execution_count": 53,
   "id": "1ed3b37f",
   "metadata": {},
   "outputs": [],
   "source": [
    "Existing['total_slot_19'] = sub_arr['value'][:100] + sub_arr['value'][100:200] \n",
    "Existing['total_slot_20'] = sub_arr['value'][409800:409900] + sub_arr['value'][409900:410000] "
   ]
  },
  {
   "cell_type": "code",
   "execution_count": 54,
   "id": "052b6e33",
   "metadata": {},
   "outputs": [
    {
     "name": "stdout",
     "output_type": "stream",
     "text": [
      "Empty DataFrame\n",
      "Columns: [supply_point_index, x_coordinate, y_coordinate, total_parking_slots, existing_num_SCS, existing_num_FCS, scs_cap, fcs_cap, total_cap, parking_cap, available_cap, add_cap, excess_cap, new_FCS, new_FCS_cap, excess_charge_cap, total_slot_19, total_slot_20]\n",
      "Index: []\n",
      "Empty DataFrame\n",
      "Columns: [supply_point_index, x_coordinate, y_coordinate, total_parking_slots, existing_num_SCS, existing_num_FCS, scs_cap, fcs_cap, total_cap, parking_cap, available_cap, add_cap, excess_cap, new_FCS, new_FCS_cap, excess_charge_cap, total_slot_19, total_slot_20]\n",
      "Index: []\n"
     ]
    }
   ],
   "source": [
    "#Double checking for constraint 3\n",
    "Existing.head()\n",
    "print(Existing.where(Existing['total_parking_slots'] < Existing['total_slot_19']).dropna(axis=0))\n",
    "print(Existing.where(Existing['total_parking_slots'] < Existing['total_slot_20']).dropna(axis=0))"
   ]
  },
  {
   "cell_type": "code",
   "execution_count": 55,
   "id": "7801afd6",
   "metadata": {},
   "outputs": [
    {
     "name": "stderr",
     "output_type": "stream",
     "text": [
      "C:\\Users\\OLADEJI\\anaconda3\\lib\\site-packages\\ipykernel_launcher.py:4: SettingWithCopyWarning: \n",
      "A value is trying to be set on a copy of a slice from a DataFrame\n",
      "\n",
      "See the caveats in the documentation: https://pandas.pydata.org/pandas-docs/stable/user_guide/indexing.html#returning-a-view-versus-a-copy\n",
      "  after removing the cwd from sys.path.\n"
     ]
    }
   ],
   "source": [
    "# Double checking to ensure adherence to constraint 3\n",
    "for i in range(len(sub_arr['value'])):\n",
    "    if sub_arr['value'][i] < 0:\n",
    "        sub_arr['value'][i] = 0"
   ]
  },
  {
   "cell_type": "code",
   "execution_count": 56,
   "id": "0c3a8278",
   "metadata": {},
   "outputs": [
    {
     "data": {
      "text/html": [
       "<div>\n",
       "<style scoped>\n",
       "    .dataframe tbody tr th:only-of-type {\n",
       "        vertical-align: middle;\n",
       "    }\n",
       "\n",
       "    .dataframe tbody tr th {\n",
       "        vertical-align: top;\n",
       "    }\n",
       "\n",
       "    .dataframe thead th {\n",
       "        text-align: right;\n",
       "    }\n",
       "</style>\n",
       "<table border=\"1\" class=\"dataframe\">\n",
       "  <thead>\n",
       "    <tr style=\"text-align: right;\">\n",
       "      <th></th>\n",
       "      <th>year</th>\n",
       "      <th>data_type</th>\n",
       "      <th>demand_point_index</th>\n",
       "      <th>supply_point_index</th>\n",
       "      <th>value</th>\n",
       "    </tr>\n",
       "  </thead>\n",
       "  <tbody>\n",
       "    <tr>\n",
       "      <th>0</th>\n",
       "      <td>2019</td>\n",
       "      <td>SCS</td>\n",
       "      <td>NaN</td>\n",
       "      <td>0</td>\n",
       "      <td>5.0</td>\n",
       "    </tr>\n",
       "    <tr>\n",
       "      <th>1</th>\n",
       "      <td>2019</td>\n",
       "      <td>SCS</td>\n",
       "      <td>NaN</td>\n",
       "      <td>1</td>\n",
       "      <td>4.0</td>\n",
       "    </tr>\n",
       "    <tr>\n",
       "      <th>2</th>\n",
       "      <td>2019</td>\n",
       "      <td>SCS</td>\n",
       "      <td>NaN</td>\n",
       "      <td>2</td>\n",
       "      <td>6.0</td>\n",
       "    </tr>\n",
       "    <tr>\n",
       "      <th>3</th>\n",
       "      <td>2019</td>\n",
       "      <td>SCS</td>\n",
       "      <td>NaN</td>\n",
       "      <td>3</td>\n",
       "      <td>5.0</td>\n",
       "    </tr>\n",
       "    <tr>\n",
       "      <th>4</th>\n",
       "      <td>2019</td>\n",
       "      <td>SCS</td>\n",
       "      <td>NaN</td>\n",
       "      <td>4</td>\n",
       "      <td>11.0</td>\n",
       "    </tr>\n",
       "    <tr>\n",
       "      <th>5</th>\n",
       "      <td>2019</td>\n",
       "      <td>SCS</td>\n",
       "      <td>NaN</td>\n",
       "      <td>5</td>\n",
       "      <td>9.0</td>\n",
       "    </tr>\n",
       "    <tr>\n",
       "      <th>6</th>\n",
       "      <td>2019</td>\n",
       "      <td>SCS</td>\n",
       "      <td>NaN</td>\n",
       "      <td>6</td>\n",
       "      <td>9.0</td>\n",
       "    </tr>\n",
       "    <tr>\n",
       "      <th>7</th>\n",
       "      <td>2019</td>\n",
       "      <td>SCS</td>\n",
       "      <td>NaN</td>\n",
       "      <td>7</td>\n",
       "      <td>6.0</td>\n",
       "    </tr>\n",
       "    <tr>\n",
       "      <th>8</th>\n",
       "      <td>2019</td>\n",
       "      <td>SCS</td>\n",
       "      <td>NaN</td>\n",
       "      <td>8</td>\n",
       "      <td>9.0</td>\n",
       "    </tr>\n",
       "    <tr>\n",
       "      <th>9</th>\n",
       "      <td>2019</td>\n",
       "      <td>SCS</td>\n",
       "      <td>NaN</td>\n",
       "      <td>9</td>\n",
       "      <td>6.0</td>\n",
       "    </tr>\n",
       "    <tr>\n",
       "      <th>10</th>\n",
       "      <td>2019</td>\n",
       "      <td>SCS</td>\n",
       "      <td>NaN</td>\n",
       "      <td>10</td>\n",
       "      <td>6.0</td>\n",
       "    </tr>\n",
       "    <tr>\n",
       "      <th>11</th>\n",
       "      <td>2019</td>\n",
       "      <td>SCS</td>\n",
       "      <td>NaN</td>\n",
       "      <td>11</td>\n",
       "      <td>9.0</td>\n",
       "    </tr>\n",
       "    <tr>\n",
       "      <th>12</th>\n",
       "      <td>2019</td>\n",
       "      <td>SCS</td>\n",
       "      <td>NaN</td>\n",
       "      <td>12</td>\n",
       "      <td>5.0</td>\n",
       "    </tr>\n",
       "    <tr>\n",
       "      <th>13</th>\n",
       "      <td>2019</td>\n",
       "      <td>SCS</td>\n",
       "      <td>NaN</td>\n",
       "      <td>13</td>\n",
       "      <td>7.0</td>\n",
       "    </tr>\n",
       "    <tr>\n",
       "      <th>14</th>\n",
       "      <td>2019</td>\n",
       "      <td>SCS</td>\n",
       "      <td>NaN</td>\n",
       "      <td>14</td>\n",
       "      <td>4.0</td>\n",
       "    </tr>\n",
       "  </tbody>\n",
       "</table>\n",
       "</div>"
      ],
      "text/plain": [
       "    year data_type  demand_point_index  supply_point_index  value\n",
       "0   2019       SCS                 NaN                   0    5.0\n",
       "1   2019       SCS                 NaN                   1    4.0\n",
       "2   2019       SCS                 NaN                   2    6.0\n",
       "3   2019       SCS                 NaN                   3    5.0\n",
       "4   2019       SCS                 NaN                   4   11.0\n",
       "5   2019       SCS                 NaN                   5    9.0\n",
       "6   2019       SCS                 NaN                   6    9.0\n",
       "7   2019       SCS                 NaN                   7    6.0\n",
       "8   2019       SCS                 NaN                   8    9.0\n",
       "9   2019       SCS                 NaN                   9    6.0\n",
       "10  2019       SCS                 NaN                  10    6.0\n",
       "11  2019       SCS                 NaN                  11    9.0\n",
       "12  2019       SCS                 NaN                  12    5.0\n",
       "13  2019       SCS                 NaN                  13    7.0\n",
       "14  2019       SCS                 NaN                  14    4.0"
      ]
     },
     "execution_count": 56,
     "metadata": {},
     "output_type": "execute_result"
    }
   ],
   "source": [
    "sub_arr.head(15)"
   ]
  },
  {
   "cell_type": "code",
   "execution_count": 57,
   "id": "c0731e11",
   "metadata": {},
   "outputs": [
    {
     "data": {
      "text/plain": [
       "0     5.0\n",
       "1     4.0\n",
       "2     6.0\n",
       "3     5.0\n",
       "4    11.0\n",
       "Name: value, dtype: float64"
      ]
     },
     "execution_count": 57,
     "metadata": {},
     "output_type": "execute_result"
    }
   ],
   "source": [
    "sub_arr['value'].head()"
   ]
  },
  {
   "cell_type": "code",
   "execution_count": 58,
   "id": "a08db12b",
   "metadata": {},
   "outputs": [],
   "source": [
    "sub_arr.to_csv('eighty.csv')"
   ]
  },
  {
   "cell_type": "code",
   "execution_count": 59,
   "id": "aa195c07",
   "metadata": {},
   "outputs": [
    {
     "data": {
      "text/html": [
       "<div>\n",
       "<style scoped>\n",
       "    .dataframe tbody tr th:only-of-type {\n",
       "        vertical-align: middle;\n",
       "    }\n",
       "\n",
       "    .dataframe tbody tr th {\n",
       "        vertical-align: top;\n",
       "    }\n",
       "\n",
       "    .dataframe thead th {\n",
       "        text-align: right;\n",
       "    }\n",
       "</style>\n",
       "<table border=\"1\" class=\"dataframe\">\n",
       "  <thead>\n",
       "    <tr style=\"text-align: right;\">\n",
       "      <th></th>\n",
       "      <th>Unnamed: 0</th>\n",
       "      <th>year</th>\n",
       "      <th>data_type</th>\n",
       "      <th>demand_point_index</th>\n",
       "      <th>supply_point_index</th>\n",
       "      <th>value</th>\n",
       "    </tr>\n",
       "  </thead>\n",
       "  <tbody>\n",
       "    <tr>\n",
       "      <th>0</th>\n",
       "      <td>0</td>\n",
       "      <td>2019</td>\n",
       "      <td>SCS</td>\n",
       "      <td>NaN</td>\n",
       "      <td>0</td>\n",
       "      <td>5.000000</td>\n",
       "    </tr>\n",
       "    <tr>\n",
       "      <th>1</th>\n",
       "      <td>1</td>\n",
       "      <td>2019</td>\n",
       "      <td>SCS</td>\n",
       "      <td>NaN</td>\n",
       "      <td>1</td>\n",
       "      <td>4.000000</td>\n",
       "    </tr>\n",
       "    <tr>\n",
       "      <th>2</th>\n",
       "      <td>2</td>\n",
       "      <td>2019</td>\n",
       "      <td>SCS</td>\n",
       "      <td>NaN</td>\n",
       "      <td>2</td>\n",
       "      <td>6.000000</td>\n",
       "    </tr>\n",
       "    <tr>\n",
       "      <th>3</th>\n",
       "      <td>3</td>\n",
       "      <td>2019</td>\n",
       "      <td>SCS</td>\n",
       "      <td>NaN</td>\n",
       "      <td>3</td>\n",
       "      <td>5.000000</td>\n",
       "    </tr>\n",
       "    <tr>\n",
       "      <th>4</th>\n",
       "      <td>4</td>\n",
       "      <td>2019</td>\n",
       "      <td>SCS</td>\n",
       "      <td>NaN</td>\n",
       "      <td>4</td>\n",
       "      <td>11.000000</td>\n",
       "    </tr>\n",
       "    <tr>\n",
       "      <th>...</th>\n",
       "      <td>...</td>\n",
       "      <td>...</td>\n",
       "      <td>...</td>\n",
       "      <td>...</td>\n",
       "      <td>...</td>\n",
       "      <td>...</td>\n",
       "    </tr>\n",
       "    <tr>\n",
       "      <th>819595</th>\n",
       "      <td>819595</td>\n",
       "      <td>2020</td>\n",
       "      <td>DS</td>\n",
       "      <td>4095.0</td>\n",
       "      <td>95</td>\n",
       "      <td>0.000000</td>\n",
       "    </tr>\n",
       "    <tr>\n",
       "      <th>819596</th>\n",
       "      <td>819596</td>\n",
       "      <td>2020</td>\n",
       "      <td>DS</td>\n",
       "      <td>4095.0</td>\n",
       "      <td>96</td>\n",
       "      <td>0.000000</td>\n",
       "    </tr>\n",
       "    <tr>\n",
       "      <th>819597</th>\n",
       "      <td>819597</td>\n",
       "      <td>2020</td>\n",
       "      <td>DS</td>\n",
       "      <td>4095.0</td>\n",
       "      <td>97</td>\n",
       "      <td>0.000000</td>\n",
       "    </tr>\n",
       "    <tr>\n",
       "      <th>819598</th>\n",
       "      <td>819598</td>\n",
       "      <td>2020</td>\n",
       "      <td>DS</td>\n",
       "      <td>4095.0</td>\n",
       "      <td>98</td>\n",
       "      <td>0.678976</td>\n",
       "    </tr>\n",
       "    <tr>\n",
       "      <th>819599</th>\n",
       "      <td>819599</td>\n",
       "      <td>2020</td>\n",
       "      <td>DS</td>\n",
       "      <td>4095.0</td>\n",
       "      <td>99</td>\n",
       "      <td>0.000000</td>\n",
       "    </tr>\n",
       "  </tbody>\n",
       "</table>\n",
       "<p>819600 rows × 6 columns</p>\n",
       "</div>"
      ],
      "text/plain": [
       "        Unnamed: 0  year data_type  demand_point_index  supply_point_index  \\\n",
       "0                0  2019       SCS                 NaN                   0   \n",
       "1                1  2019       SCS                 NaN                   1   \n",
       "2                2  2019       SCS                 NaN                   2   \n",
       "3                3  2019       SCS                 NaN                   3   \n",
       "4                4  2019       SCS                 NaN                   4   \n",
       "...            ...   ...       ...                 ...                 ...   \n",
       "819595      819595  2020        DS              4095.0                  95   \n",
       "819596      819596  2020        DS              4095.0                  96   \n",
       "819597      819597  2020        DS              4095.0                  97   \n",
       "819598      819598  2020        DS              4095.0                  98   \n",
       "819599      819599  2020        DS              4095.0                  99   \n",
       "\n",
       "            value  \n",
       "0        5.000000  \n",
       "1        4.000000  \n",
       "2        6.000000  \n",
       "3        5.000000  \n",
       "4       11.000000  \n",
       "...           ...  \n",
       "819595   0.000000  \n",
       "819596   0.000000  \n",
       "819597   0.000000  \n",
       "819598   0.678976  \n",
       "819599   0.000000  \n",
       "\n",
       "[819600 rows x 6 columns]"
      ]
     },
     "execution_count": 59,
     "metadata": {},
     "output_type": "execute_result"
    }
   ],
   "source": [
    "df = pd.read_csv('eighty.csv')\n",
    "df"
   ]
  },
  {
   "cell_type": "code",
   "execution_count": 60,
   "id": "11e5abcb",
   "metadata": {},
   "outputs": [],
   "source": [
    "\n",
    "for i in range(len(df['value'])):\n",
    "    if df['value'][i] < 0:\n",
    "        df['value'][i] = 0"
   ]
  },
  {
   "cell_type": "code",
   "execution_count": 61,
   "id": "ebe291db",
   "metadata": {},
   "outputs": [
    {
     "data": {
      "text/plain": [
       "0.0"
      ]
     },
     "execution_count": 61,
     "metadata": {},
     "output_type": "execute_result"
    }
   ],
   "source": [
    "df['value'].min()"
   ]
  },
  {
   "cell_type": "code",
   "execution_count": 62,
   "id": "d731b71e",
   "metadata": {},
   "outputs": [],
   "source": [
    "#df.to_csv('seventh1')"
   ]
  },
  {
   "cell_type": "code",
   "execution_count": null,
   "id": "104c51b2",
   "metadata": {},
   "outputs": [],
   "source": []
  }
 ],
 "metadata": {
  "kernelspec": {
   "display_name": "Python 3",
   "language": "python",
   "name": "python3"
  },
  "language_info": {
   "codemirror_mode": {
    "name": "ipython",
    "version": 3
   },
   "file_extension": ".py",
   "mimetype": "text/x-python",
   "name": "python",
   "nbconvert_exporter": "python",
   "pygments_lexer": "ipython3",
   "version": "3.7.7"
  }
 },
 "nbformat": 4,
 "nbformat_minor": 5
}
